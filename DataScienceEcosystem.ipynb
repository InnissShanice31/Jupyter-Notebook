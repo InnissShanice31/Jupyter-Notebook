{
 "cells": [
  {
   "cell_type": "markdown",
   "id": "f17d3d00-3d1f-4cf0-96cf-abb039dd1670",
   "metadata": {},
   "source": [
    "# Data Science Tools and Ecosystem"
   ]
  },
  {
   "cell_type": "markdown",
   "id": "324a4b83-4aaa-411e-8839-a79bf002c8d1",
   "metadata": {},
   "source": [
    "In this notebook, Data Science Tools and Ecosystem are summarized."
   ]
  },
  {
   "cell_type": "markdown",
   "id": "3a857976-710e-4c48-a852-e1f084ffe1a8",
   "metadata": {},
   "source": [
    "Some of the popular languages that Data Scientists use are:\n",
    "\n",
    "1. Python\n",
    "2. R\n",
    "3. SQL"
   ]
  },
  {
   "cell_type": "markdown",
   "id": "2d6293bc-485b-4bd8-b62d-79aec724ec43",
   "metadata": {},
   "source": [
    "Some of the commonly used libraries used by Data Scientists include:\n",
    "\n",
    "1. Pandas\n",
    "2. Scikit-learn\n",
    "3. Matplotlib"
   ]
  },
  {
   "cell_type": "markdown",
   "id": "003ae7bc-095d-43e5-a842-75d908016d23",
   "metadata": {},
   "source": [
    "Data Science Tools\n",
    "|-----------------|\n",
    "Jupyter Notebook\n",
    "RStudio\n",
    "VS Code"
   ]
  },
  {
   "cell_type": "markdown",
   "id": "1625e885-5c98-4e1d-9109-082bc97ec744",
   "metadata": {},
   "source": [
    "### Below are a few examples of evaluating arithmetic expressions in Python"
   ]
  },
  {
   "cell_type": "markdown",
   "id": "784e6541-2f1d-48b5-8c75-081b0875534c",
   "metadata": {},
   "source": [
    "This a simple arithmetic expression to mutiply then add integers"
   ]
  },
  {
   "cell_type": "code",
   "execution_count": 29,
   "id": "a0ed7a8f-b632-482b-8c5f-c113f6a7fe6d",
   "metadata": {},
   "outputs": [
    {
     "data": {
      "text/plain": [
       "17"
      ]
     },
     "execution_count": 29,
     "metadata": {},
     "output_type": "execute_result"
    }
   ],
   "source": [
    "(3*4)+5"
   ]
  },
  {
   "cell_type": "markdown",
   "id": "d7d7960d-f789-4b69-be18-034622a44b76",
   "metadata": {},
   "source": [
    "This will convert 200 minutes to hours by diving by 60"
   ]
  },
  {
   "cell_type": "code",
   "execution_count": 32,
   "id": "6436027e-236a-4000-9339-9368f4ef6d50",
   "metadata": {},
   "outputs": [
    {
     "data": {
      "text/plain": [
       "3.3333333333333335"
      ]
     },
     "execution_count": 32,
     "metadata": {},
     "output_type": "execute_result"
    }
   ],
   "source": [
    "200/60"
   ]
  },
  {
   "cell_type": "markdown",
   "id": "31b9fb2b-feab-4449-be0c-df97f8c3593e",
   "metadata": {},
   "source": [
    "**Objectives:**"
   ]
  },
  {
   "cell_type": "markdown",
   "id": "718c515b-dfe9-4025-9ee3-7e75960b1238",
   "metadata": {},
   "source": [
    "- List popular languages for Data Science\n",
    "- Commonly used Libraries\n",
    "- Data Science Tools"
   ]
  },
  {
   "cell_type": "markdown",
   "id": "44001ebf-f4ec-4c23-8adf-d75dc6b08ebc",
   "metadata": {},
   "source": [
    "## Author"
   ]
  },
  {
   "cell_type": "markdown",
   "id": "0c4a81d6-4ec4-44e4-ad7a-61d49537beec",
   "metadata": {},
   "source": [
    "Shanice Inniss"
   ]
  },
  {
   "cell_type": "code",
   "execution_count": null,
   "id": "dfd6bed0-2a52-43a0-b1f3-c36b4777b678",
   "metadata": {},
   "outputs": [],
   "source": []
  }
 ],
 "metadata": {
  "kernelspec": {
   "display_name": "Python 3 (ipykernel)",
   "language": "python",
   "name": "python3"
  },
  "language_info": {
   "codemirror_mode": {
    "name": "ipython",
    "version": 3
   },
   "file_extension": ".py",
   "mimetype": "text/x-python",
   "name": "python",
   "nbconvert_exporter": "python",
   "pygments_lexer": "ipython3",
   "version": "3.12.7"
  }
 },
 "nbformat": 4,
 "nbformat_minor": 5
}
